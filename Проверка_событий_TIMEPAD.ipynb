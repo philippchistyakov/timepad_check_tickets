{
  "nbformat": 4,
  "nbformat_minor": 0,
  "metadata": {
    "colab": {
      "name": "Проверка событий TIMEPAD.ipynb",
      "provenance": [],
      "private_outputs": true,
      "collapsed_sections": [],
      "authorship_tag": "ABX9TyNuhwT1Lffowd1L+/2pzsNl",
      "include_colab_link": true
    },
    "kernelspec": {
      "name": "python3",
      "display_name": "Python 3"
    }
  },
  "cells": [
    {
      "cell_type": "markdown",
      "metadata": {
        "id": "view-in-github",
        "colab_type": "text"
      },
      "source": [
        "<a href=\"https://colab.research.google.com/github/philippchistyakov/timepad_check_tickets/blob/master/%D0%9F%D1%80%D0%BE%D0%B2%D0%B5%D1%80%D0%BA%D0%B0_%D1%81%D0%BE%D0%B1%D1%8B%D1%82%D0%B8%D0%B9_TIMEPAD.ipynb\" target=\"_parent\"><img src=\"https://colab.research.google.com/assets/colab-badge.svg\" alt=\"Open In Colab\"/></a>"
      ]
    },
    {
      "cell_type": "markdown",
      "metadata": {
        "id": "Uf0jadDV0som",
        "colab_type": "text"
      },
      "source": [
        "Получить токен можно тут http://dev.timepad.ru/api/oauth/"
      ]
    },
    {
      "cell_type": "code",
      "metadata": {
        "id": "SsJTCCOPswJX",
        "colab_type": "code",
        "colab": {}
      },
      "source": [
        "import requests as r\n",
        "import pandas as pd\n",
        "\n",
        "event_id =  1130931#@param {type:\"integer\"}\n",
        "timepad_token = ''#@param {type:\"string\"}\n",
        "\n",
        "headers = {\"Authorization\": f\"Bearer {timepad_token}\"}\n",
        "\n",
        "\n",
        "url=f'https://api.timepad.ru/v1/events/{event_id}'\n",
        "resp=r.get(url, params=event_param, headers=headers)\n",
        "resp_js = resp.json()\n",
        "pd.DataFrame(resp_js ['ticket_types'])"
      ],
      "execution_count": null,
      "outputs": []
    },
    {
      "cell_type": "code",
      "metadata": {
        "id": "PhTNnVFktexI",
        "colab_type": "code",
        "colab": {}
      },
      "source": [
        ""
      ],
      "execution_count": null,
      "outputs": []
    }
  ]
}
